{
  "nbformat": 4,
  "nbformat_minor": 0,
  "metadata": {
    "colab": {
      "provenance": [],
      "collapsed_sections": [
        "FB7rPXr2Ppfb",
        "1GG6E0iMPjZP",
        "1jivIILpZALU"
      ]
    },
    "kernelspec": {
      "name": "python3",
      "display_name": "Python 3"
    },
    "language_info": {
      "name": "python"
    }
  },
  "cells": [
    {
      "cell_type": "code",
      "execution_count": null,
      "metadata": {
        "id": "0CdOtRA02xuu"
      },
      "outputs": [],
      "source": [
        "import numpy as np\n",
        "import json\n",
        "import os\n",
        "from tqdm.notebook  import tqdm\n",
        "\n",
        "from sklearn.decomposition import PCA\n",
        "from logging import raiseExceptions\n",
        "from sklearn.metrics import precision_score, recall_score, f1_score\n",
        "from scipy.optimize import linear_sum_assignment\n",
        "from sklearn.metrics import confusion_matrix\n",
        "import numpy as np"
      ]
    },
    {
      "cell_type": "code",
      "source": [
        "def load_json(file_path: str):\n",
        "    with open(file_path, 'r', encoding='utf-8') as f:\n",
        "        return json.load(f)"
      ],
      "metadata": {
        "id": "cYvwrREW3EIu"
      },
      "execution_count": null,
      "outputs": []
    },
    {
      "cell_type": "code",
      "source": [
        "# Loading dataset\n",
        "\n",
        "train = load_json('UIT-VSFC-train.json')\n",
        "dev = load_json('UIT-VSFC-dev.json')\n",
        "test = load_json('UIT-VSFC-test.json')"
      ],
      "metadata": {
        "id": "AXEztkRS3JQG"
      },
      "execution_count": null,
      "outputs": []
    },
    {
      "cell_type": "markdown",
      "source": [
        "## Bai 1"
      ],
      "metadata": {
        "id": "FB7rPXr2Ppfb"
      }
    },
    {
      "cell_type": "code",
      "source": [
        "!pip install py_vncorenlp"
      ],
      "metadata": {
        "colab": {
          "base_uri": "https://localhost:8080/"
        },
        "id": "2gCoa0NU33XF",
        "outputId": "56dcd2f6-036f-449e-95c8-804ac7368171"
      },
      "execution_count": null,
      "outputs": [
        {
          "output_type": "stream",
          "name": "stdout",
          "text": [
            "Requirement already satisfied: py_vncorenlp in /usr/local/lib/python3.11/dist-packages (0.1.4)\n",
            "Requirement already satisfied: pyjnius in /usr/local/lib/python3.11/dist-packages (from py_vncorenlp) (1.6.1)\n"
          ]
        }
      ]
    },
    {
      "cell_type": "code",
      "source": [
        "os.makedirs('vncorenlp', exist_ok=True)"
      ],
      "metadata": {
        "id": "O_daNSEc4of6"
      },
      "execution_count": null,
      "outputs": []
    },
    {
      "cell_type": "code",
      "source": [
        "import py_vncorenlp\n",
        "\n",
        "# Automatically download VnCoreNLP components from the original repository\n",
        "# and save them in some local working folder\n",
        "py_vncorenlp.download_model(save_dir='/content/vncorenlp')\n",
        "\n",
        "# Load VnCoreNLP from the local working folder that contains both `VnCoreNLP-1.2.jar` and `models`\n",
        "#model = py_vncorenlp.VnCoreNLP(save_dir='/content/vncorenlp')\n",
        "\n",
        "rdrsegmenter = py_vncorenlp.VnCoreNLP(annotators=[\"wseg\"], save_dir='/content/vncorenlp')\n",
        "text = \"Ông Nguyễn Khắc Chúc  đang làm việc tại Đại học Quốc gia Hà Nội. Bà Lan, vợ ông Chúc, cũng làm việc tại đây.\"\n",
        "output = rdrsegmenter.word_segment(text)\n",
        "print(output)\n"
      ],
      "metadata": {
        "colab": {
          "base_uri": "https://localhost:8080/"
        },
        "collapsed": true,
        "id": "xvqVaXP13Lvv",
        "outputId": "2a3151fd-3459-4506-c065-4ba12b0d0667"
      },
      "execution_count": null,
      "outputs": [
        {
          "output_type": "stream",
          "name": "stdout",
          "text": [
            "VnCoreNLP model folder /content/vncorenlp already exists! Please load VnCoreNLP from this folder!\n",
            "['Ông Nguyễn_Khắc_Chúc đang làm_việc tại Đại_học Quốc_gia Hà_Nội .', 'Bà Lan , vợ ông Chúc , cũng làm_việc tại đây .']\n"
          ]
        }
      ]
    },
    {
      "cell_type": "code",
      "source": [
        "segmented_train = [\n",
        "    rdrsegmenter.word_segment(each['sentence'])[0]\n",
        "    for each in tqdm(train, desc=\"Segment train set\")\n",
        "]"
      ],
      "metadata": {
        "colab": {
          "base_uri": "https://localhost:8080/",
          "height": 49,
          "referenced_widgets": [
            "0c94309912594ae78d51fd5681b0f21d",
            "015ef21c087841189412ac2f37443ed0",
            "0a7cae365bd14c38991ab445c4e97fc5",
            "7a12dbb008074b8ea80a40ba955c9de5",
            "cf6d5280f1bb441ca5d52c8e59adf5ba",
            "73938f24fd7542128ad73b9503bef38a",
            "09c40d93a6d549b89ef75fbbb18bb577",
            "4284794f2af14039b66eff5405ca6b1b",
            "07aaebec0b5740f3a50c7fae34fe8d36",
            "884b3c5bb47b4cb793dec54c49aa89e8",
            "96550a60d3684b02841464715355fc3f"
          ]
        },
        "id": "q5vuBAypBC8D",
        "outputId": "0c848fd6-8627-4195-a7d7-9206074b41d8"
      },
      "execution_count": null,
      "outputs": [
        {
          "output_type": "display_data",
          "data": {
            "text/plain": [
              "Segment train set:   0%|          | 0/11426 [00:00<?, ?it/s]"
            ],
            "application/vnd.jupyter.widget-view+json": {
              "version_major": 2,
              "version_minor": 0,
              "model_id": "0c94309912594ae78d51fd5681b0f21d"
            }
          },
          "metadata": {}
        }
      ]
    },
    {
      "cell_type": "code",
      "source": [
        "segmented_test = [\n",
        "    rdrsegmenter.word_segment(each['sentence'])[0]\n",
        "    for each in tqdm(test, desc=\"Segment test set\")\n",
        "]"
      ],
      "metadata": {
        "colab": {
          "base_uri": "https://localhost:8080/",
          "height": 49,
          "referenced_widgets": [
            "90ace2f513f24ff8a62fd8977a6e6851",
            "f170f39c8f7042f8b80bc6cb58c65190",
            "f02cc600604b48949a4dc44325bdf2d2",
            "b5a7f1b08e5149d8bdddff4f54122653",
            "7dce3ec93164488fba5c1f18d25c9942",
            "c3872de6f6a84041898510a24317fff9",
            "d25367ce22dd4462b6cd4df10da85a7e",
            "2d96f7a58a9a4d6ba89ce0ea3b018670",
            "c800c55d939c4234b18a6ff80f29a114",
            "9c2cc620b7d5442f81016baaee350ad5",
            "46f7ce8f7411417daab98cbf2cbddd3b"
          ]
        },
        "id": "UOa4454IPwRo",
        "outputId": "fb42f752-0f27-482a-d903-4e775cfca864"
      },
      "execution_count": null,
      "outputs": [
        {
          "output_type": "display_data",
          "data": {
            "text/plain": [
              "Segment test set:   0%|          | 0/3166 [00:00<?, ?it/s]"
            ],
            "application/vnd.jupyter.widget-view+json": {
              "version_major": 2,
              "version_minor": 0,
              "model_id": "90ace2f513f24ff8a62fd8977a6e6851"
            }
          },
          "metadata": {}
        }
      ]
    },
    {
      "cell_type": "markdown",
      "source": [
        "## Bai 2"
      ],
      "metadata": {
        "id": "1GG6E0iMPjZP"
      }
    },
    {
      "cell_type": "code",
      "source": [
        "import torch\n",
        "from transformers import AutoModel, AutoTokenizer"
      ],
      "metadata": {
        "id": "7gtQJFHbPisq"
      },
      "execution_count": null,
      "outputs": []
    },
    {
      "cell_type": "code",
      "source": [
        "phobert = AutoModel.from_pretrained(\"vinai/phobert-base-v2\")\n",
        "tokenizer = AutoTokenizer.from_pretrained(\"vinai/phobert-base-v2\")"
      ],
      "metadata": {
        "colab": {
          "base_uri": "https://localhost:8080/"
        },
        "id": "vUHYwv-I79yL",
        "outputId": "254a8cfa-cb4a-488c-d813-823ae0940d90"
      },
      "execution_count": null,
      "outputs": [
        {
          "output_type": "stream",
          "name": "stderr",
          "text": [
            "/usr/local/lib/python3.11/dist-packages/huggingface_hub/utils/_auth.py:94: UserWarning: \n",
            "The secret `HF_TOKEN` does not exist in your Colab secrets.\n",
            "To authenticate with the Hugging Face Hub, create a token in your settings tab (https://huggingface.co/settings/tokens), set it as secret in your Google Colab and restart your session.\n",
            "You will be able to reuse this secret in all of your notebooks.\n",
            "Please note that authentication is recommended but still optional to access public models or datasets.\n",
            "  warnings.warn(\n",
            "Some weights of RobertaModel were not initialized from the model checkpoint at vinai/phobert-base-v2 and are newly initialized: ['pooler.dense.bias', 'pooler.dense.weight']\n",
            "You should probably TRAIN this model on a down-stream task to be able to use it for predictions and inference.\n"
          ]
        }
      ]
    },
    {
      "cell_type": "code",
      "source": [
        "encoded_train = [\n",
        "    torch.tensor([tokenizer.encode(each)])\n",
        "    for each in tqdm(segmented_train, desc= 'Encoding train set')\n",
        "]"
      ],
      "metadata": {
        "colab": {
          "base_uri": "https://localhost:8080/",
          "height": 49,
          "referenced_widgets": [
            "d5ddbd366c48487f946e0db4caa4c066",
            "91f93ba52eb74e9eaf11ffb23fbd40a3",
            "5efad41808864abdbcb2d1367718d489",
            "3fc91d6f0077438c80e757bfe176f5fe",
            "83379d2e816a40259d1c2df9fd36530b",
            "66cf2ac6e18345b78a748b9ec76ba2f2",
            "515ddcb6059648eea553748af8e218be",
            "32ff1d5e17394d4b921fa0931339862d",
            "e10215f47cde43f98af84ebec57b3a55",
            "fb31ab6b062c470d9cbba0a36f18f897",
            "d91b61e757b9441cb473962e99a5c103"
          ]
        },
        "id": "dztIz_MQ_cgi",
        "outputId": "648f0965-a633-4aa8-b2f9-97550e457aa4"
      },
      "execution_count": null,
      "outputs": [
        {
          "output_type": "display_data",
          "data": {
            "text/plain": [
              "Encoding train set:   0%|          | 0/11426 [00:00<?, ?it/s]"
            ],
            "application/vnd.jupyter.widget-view+json": {
              "version_major": 2,
              "version_minor": 0,
              "model_id": "d5ddbd366c48487f946e0db4caa4c066"
            }
          },
          "metadata": {}
        }
      ]
    },
    {
      "cell_type": "code",
      "source": [
        "encoded_test = [\n",
        "    torch.tensor([tokenizer.encode(each)])\n",
        "    for each in tqdm(segmented_test, desc= 'Encoding test set')\n",
        "]"
      ],
      "metadata": {
        "colab": {
          "base_uri": "https://localhost:8080/",
          "height": 49,
          "referenced_widgets": [
            "677e29eff0f64b2090fdf395c8ace012",
            "8bbe820a46184013946944ca5625fe9c",
            "8de9d2d4ccd74d879b9d97ad70fcc003",
            "725b95726ff84e42ab7b1abd789604c2",
            "0443c0b119da43d0b4e5f8bbcabdcf39",
            "7cc722edc90b49489682fe1faaecbf3d",
            "0738f097a9ab4da88b40caab94326dd5",
            "b1a34d427f4f4d3aa1270e43e0cb59bf",
            "5b7341c0884d49709db19164a5aa8dca",
            "44b0724d606a4f0ba27b7ed770d7266d",
            "c0ffd0e100d84eb0896275f5523c9a3f"
          ]
        },
        "id": "RkYZpozkQ3Ni",
        "outputId": "e05cde78-2517-4b77-fc67-c85cd57bcbdd"
      },
      "execution_count": null,
      "outputs": [
        {
          "output_type": "display_data",
          "data": {
            "text/plain": [
              "Encoding test set:   0%|          | 0/3166 [00:00<?, ?it/s]"
            ],
            "application/vnd.jupyter.widget-view+json": {
              "version_major": 2,
              "version_minor": 0,
              "model_id": "677e29eff0f64b2090fdf395c8ace012"
            }
          },
          "metadata": {}
        }
      ]
    },
    {
      "cell_type": "code",
      "source": [
        "# Extract feature from train set using PhoBERT.\n",
        "\n",
        "with torch.no_grad():\n",
        "  train_feature = [\n",
        "      phobert(each)\n",
        "      for each in tqdm(encoded_train, desc= 'PhoBERT train')\n",
        "  ]"
      ],
      "metadata": {
        "colab": {
          "base_uri": "https://localhost:8080/",
          "height": 49,
          "referenced_widgets": [
            "ccb556f53d00499788ab86542a6693b9",
            "ea64cfaa376144ea93a4c2f907c6ba49",
            "01b43d1134ed441e8c49f0559214d5b6",
            "276db0318d4046039ae011931eaf1d0a",
            "c90d47eda05a4b9ca171e48b904a3786",
            "a4d179737e4842a89acee27c3fa8ed98",
            "a95dd4fbf4e24cff829a09a2545bc8c5",
            "83e363aa724242769e74ee6a220133b7",
            "993009f101ff49d298f23c85fffeed0d",
            "1ccb03039fdb4725a76c4b1f74f6831f",
            "eb0f581a23584aacba20d2b803439ef7"
          ]
        },
        "id": "7RR-HiwYBUGz",
        "outputId": "2e6891ac-8d8f-47eb-90f5-001bc03a3859"
      },
      "execution_count": null,
      "outputs": [
        {
          "output_type": "display_data",
          "data": {
            "text/plain": [
              "PhoBERT train:   0%|          | 0/11426 [00:00<?, ?it/s]"
            ],
            "application/vnd.jupyter.widget-view+json": {
              "version_major": 2,
              "version_minor": 0,
              "model_id": "ccb556f53d00499788ab86542a6693b9"
            }
          },
          "metadata": {}
        }
      ]
    },
    {
      "cell_type": "code",
      "source": [
        "torch.save(train_feature, \"train_feature.pt\")"
      ],
      "metadata": {
        "id": "_K3wROOcXSSk"
      },
      "execution_count": null,
      "outputs": []
    },
    {
      "cell_type": "code",
      "source": [
        "# Extract feature from test set using PhoBERT.\n",
        "\n",
        "with torch.no_grad():\n",
        "  test_feature = [\n",
        "      phobert(each)\n",
        "      for each in tqdm(encoded_test, desc= 'PhoBERT test')\n",
        "  ]"
      ],
      "metadata": {
        "colab": {
          "base_uri": "https://localhost:8080/",
          "height": 49,
          "referenced_widgets": [
            "0270470f03f141f691300fce9add5661",
            "afa3f448879844b38c5abe5e18dd4199",
            "dfaa006455294b4b8a0fbe40043d7870",
            "bea7ee3f9bd54d3f967fdcd6638be70c",
            "5c9b73e5622c4643a7358f9d77eddff2",
            "9ac70f1898c54a2cbc5ff1cabbc8c440",
            "ff882b02518f405697bc7d1b3e24ad5a",
            "b7818a9c293e48f7bf3000b25b84bd28",
            "9a11bb8d5345468680978ce1990e8fce",
            "685d53a98f13470091f68e21dde3c780",
            "9cc29622c62942279ec680ee1561e19d"
          ]
        },
        "id": "02wIzUYpRhCt",
        "outputId": "a095a4e8-707d-4848-eab2-637ae9c36efc"
      },
      "execution_count": null,
      "outputs": [
        {
          "output_type": "display_data",
          "data": {
            "text/plain": [
              "PhoBERT test:   0%|          | 0/3166 [00:00<?, ?it/s]"
            ],
            "application/vnd.jupyter.widget-view+json": {
              "version_major": 2,
              "version_minor": 0,
              "model_id": "0270470f03f141f691300fce9add5661"
            }
          },
          "metadata": {}
        }
      ]
    },
    {
      "cell_type": "code",
      "source": [
        "torch.save(test_feature, \"test_feature.pt\")\n"
      ],
      "metadata": {
        "id": "agaha_1AXyKo"
      },
      "execution_count": null,
      "outputs": []
    },
    {
      "cell_type": "code",
      "source": [
        "# Load feature\n",
        "\n",
        "train_feature = torch.load(\"train_feature.pt\", weights_only=False)\n",
        "test_feature = torch.load(\"test_feature.pt\", weights_only=False)"
      ],
      "metadata": {
        "id": "GPqNqspzL2MH"
      },
      "execution_count": null,
      "outputs": []
    },
    {
      "cell_type": "code",
      "source": [
        "# Get last_hidden_state from train_feature\n",
        "\n",
        "train_last_hidden_state = [\n",
        "    each['last_hidden_state']\n",
        "    for each in tqdm(train_feature)\n",
        "]"
      ],
      "metadata": {
        "colab": {
          "base_uri": "https://localhost:8080/",
          "height": 49,
          "referenced_widgets": [
            "4eb126b60cd041efb06457d29692dae8",
            "ce2110c2931f4fe0a99d8db7ed1e9132",
            "8fbc6d2404fb489bb6c21311f2b209bb",
            "a88fafc2a9c341e898a0441159b527a7",
            "bc506a5fbc4b4528a69620b83ef94131",
            "74138ef920db4b5ebcb833d502e4efd5",
            "865e3fd7242449d39501f91a928905cb",
            "3384799448914083895906f71e44fbda",
            "258087ec0c724bbeb6b2a4e4c3c6a484",
            "d598370d08154557ad4d3f71a7eb055d",
            "fae19d31bc7b43ba8b27a67c7f016a8c"
          ]
        },
        "id": "AQOYoV7nH7Pe",
        "outputId": "19e306cf-8d8e-476f-b671-7e5221d9dece"
      },
      "execution_count": null,
      "outputs": [
        {
          "output_type": "display_data",
          "data": {
            "text/plain": [
              "  0%|          | 0/11426 [00:00<?, ?it/s]"
            ],
            "application/vnd.jupyter.widget-view+json": {
              "version_major": 2,
              "version_minor": 0,
              "model_id": "4eb126b60cd041efb06457d29692dae8"
            }
          },
          "metadata": {}
        }
      ]
    },
    {
      "cell_type": "code",
      "source": [
        "# Get last_hidden_state from test_feature\n",
        "\n",
        "test_last_hidden_state = [\n",
        "    each['last_hidden_state']\n",
        "    for each in tqdm(test_feature)\n",
        "]"
      ],
      "metadata": {
        "colab": {
          "base_uri": "https://localhost:8080/",
          "height": 49,
          "referenced_widgets": [
            "fc2a252b961a40e6b8a1913dee03df06",
            "9717516734ed45bbb38d0b4f85be2822",
            "979fde956c724d469190c91c0f9f4af1",
            "3354a4ce3c2f4bba9aca03d8dacd0485",
            "3bfcf938e63f47f780724eabb364bbb8",
            "a3f9c86f71d445c1bd68977274024b7e",
            "abca1e5506c24732b50eb7845d299f4d",
            "87a8f7a3a2dd467fa72d740bd54e6d6f",
            "3abb862b30bd4bda8adb6d3cd7f84729",
            "fd0c3a7450854c56903ff1613b3f1b3d",
            "ff131a77e9fa47b691c5f5f4d4f48be5"
          ]
        },
        "id": "ZgWcwz2fSrn5",
        "outputId": "95faf906-c959-43ff-a901-08dc0cce312d"
      },
      "execution_count": null,
      "outputs": [
        {
          "output_type": "display_data",
          "data": {
            "text/plain": [
              "  0%|          | 0/3166 [00:00<?, ?it/s]"
            ],
            "application/vnd.jupyter.widget-view+json": {
              "version_major": 2,
              "version_minor": 0,
              "model_id": "fc2a252b961a40e6b8a1913dee03df06"
            }
          },
          "metadata": {}
        }
      ]
    },
    {
      "cell_type": "code",
      "source": [
        "train_last_hidden_state[0].shape #(batch_size, seq_len, hidden_dim)"
      ],
      "metadata": {
        "colab": {
          "base_uri": "https://localhost:8080/"
        },
        "id": "cNIMn7n0ISz2",
        "outputId": "43bfa9af-aaa5-4d5b-c1ee-b1f356666368"
      },
      "execution_count": null,
      "outputs": [
        {
          "output_type": "execute_result",
          "data": {
            "text/plain": [
              "torch.Size([1, 6, 768])"
            ]
          },
          "metadata": {},
          "execution_count": 11
        }
      ]
    },
    {
      "cell_type": "code",
      "source": [
        "# Get mean pooling from hidden state\n",
        "\n",
        "train_mean_pooled_vector = [\n",
        "    each.mean(dim=1).squeeze(0)\n",
        "    for each in tqdm(train_last_hidden_state)\n",
        "]"
      ],
      "metadata": {
        "colab": {
          "base_uri": "https://localhost:8080/",
          "height": 49,
          "referenced_widgets": [
            "d1fb14e4ad6a4729bcb9ccb4771be53b",
            "7dae8dad5ff3466cb798f9a281dd6c1a",
            "27ecfa98d9d649bfb6d7afe0084ab33d",
            "595f1c0de37a49a28271059643461033",
            "992e4265a7b648a1908dd18ac62599be",
            "4e7d38925df84809aa6c6d4a072aba69",
            "8ec007ec575c4ec88ae7bfbed51c7f4e",
            "19c60a03304c4a29a246fb340d56c69f",
            "2769ea4672af4605ab974c7ed9c74e36",
            "e8d40c4d30414d9f962c150003b47e14",
            "37ff3faeb7b14726b95fec8f116a68a0"
          ]
        },
        "id": "Kb805O9CLd3B",
        "outputId": "064ef67a-db80-4139-e8f8-0bc0bc84fe57"
      },
      "execution_count": null,
      "outputs": [
        {
          "output_type": "display_data",
          "data": {
            "text/plain": [
              "  0%|          | 0/11426 [00:00<?, ?it/s]"
            ],
            "application/vnd.jupyter.widget-view+json": {
              "version_major": 2,
              "version_minor": 0,
              "model_id": "d1fb14e4ad6a4729bcb9ccb4771be53b"
            }
          },
          "metadata": {}
        }
      ]
    },
    {
      "cell_type": "code",
      "source": [
        "# Get mean pooling from hidden state\n",
        "\n",
        "test_mean_pooled_vector = [\n",
        "    each.mean(dim=1).squeeze(0)\n",
        "    for each in tqdm(test_last_hidden_state)\n",
        "]"
      ],
      "metadata": {
        "colab": {
          "base_uri": "https://localhost:8080/",
          "height": 49,
          "referenced_widgets": [
            "fddced99723a4510b38ccf3f832256ae",
            "2450d0f747ee4e66b88a3bde0af3348e",
            "94355e213233428ab39a5579ce51238d",
            "b00c86b0136e4b02a88f7785b0165eda",
            "7ae4b6b704e0415b9a583df9fb13e725",
            "6c131e9c85284f708f356e246cfb9f4c",
            "f8b8a869f1024fbb8dd164c538b580df",
            "86d03ac4865340cba37e25a8c7e892c7",
            "60961439be634e1abd7d500d328e475b",
            "165bca80d81447eaa3bb60933debecce",
            "f81680273ce347c7ab776ca1ba410e4a"
          ]
        },
        "id": "jVA28D86SypR",
        "outputId": "cbb2fdfb-1b57-4c09-eab1-deca21e022d2"
      },
      "execution_count": null,
      "outputs": [
        {
          "output_type": "display_data",
          "data": {
            "text/plain": [
              "  0%|          | 0/3166 [00:00<?, ?it/s]"
            ],
            "application/vnd.jupyter.widget-view+json": {
              "version_major": 2,
              "version_minor": 0,
              "model_id": "fddced99723a4510b38ccf3f832256ae"
            }
          },
          "metadata": {}
        }
      ]
    },
    {
      "cell_type": "markdown",
      "source": [
        "## Bai 3"
      ],
      "metadata": {
        "id": "1jivIILpZALU"
      }
    },
    {
      "cell_type": "code",
      "source": [
        "class GMM:\n",
        "    def __init__(self, n_components, max_iter=100, comp_names=None, reg_covar=1e-6, verbose=True):\n",
        "        self.n_components = n_components\n",
        "        self.max_iter = max_iter\n",
        "        self.reg_covar = reg_covar\n",
        "        self.verbose = verbose\n",
        "\n",
        "        if comp_names is None:\n",
        "            self.comp_names = [f\"comp{index}\" for index in range(self.n_components)]\n",
        "        else:\n",
        "            self.comp_names = comp_names\n",
        "\n",
        "        self.pi = [1/self.n_components for _ in range(self.n_components)]\n",
        "\n",
        "    def multivariate_normal(self, x, mean, cov):\n",
        "        cov = cov + np.eye(len(mean)) * self.reg_covar\n",
        "        size = len(x)\n",
        "        det = np.linalg.det(cov)\n",
        "        if det <= 0: det = self.reg_covar\n",
        "        norm_const = 1.0 / (np.power((2 * np.pi), size/2) * np.sqrt(det))\n",
        "        x_mu = x - mean\n",
        "        inv = np.linalg.inv(cov)\n",
        "        result = np.dot(x_mu, inv)\n",
        "        result = np.dot(result, x_mu)\n",
        "        val = norm_const * np.exp(-0.5 * result)\n",
        "        if np.isnan(val) or np.isinf(val):\n",
        "            val = self.reg_covar\n",
        "        return val\n",
        "\n",
        "    def fit(self, X):\n",
        "        X = np.array(X)\n",
        "        n_samples, n_features = X.shape\n",
        "\n",
        "        # Initialization\n",
        "        split_X = np.array_split(X, self.n_components)\n",
        "        self.means = [np.mean(x, axis=0) for x in split_X]\n",
        "        self.covariances = [np.cov(x.T) + np.eye(n_features) * self.reg_covar for x in split_X]\n",
        "        self.pi = [1 / self.n_components] * self.n_components\n",
        "\n",
        "        for it in tqdm(range(self.max_iter), desc=\"GMM EM\", disable=not self.verbose):\n",
        "            # E-step\n",
        "            r = np.zeros((n_samples, self.n_components))\n",
        "            for n in range(n_samples):\n",
        "                for k in range(self.n_components):\n",
        "                    r[n, k] = self.pi[k] * self.multivariate_normal(X[n], self.means[k], self.covariances[k])\n",
        "                total = np.sum(r[n])\n",
        "                if total == 0:\n",
        "                    r[n] = 1.0 / self.n_components\n",
        "                else:\n",
        "                    r[n] /= total\n",
        "\n",
        "            N_k = np.sum(r, axis=0)\n",
        "\n",
        "            # M-step\n",
        "            for k in range(self.n_components):\n",
        "                self.means[k] = np.sum(r[:, k].reshape(-1, 1) * X, axis=0) / (N_k[k] + self.reg_covar)\n",
        "                cov_k = np.zeros((n_features, n_features))\n",
        "                for n in range(n_samples):\n",
        "                    diff = (X[n] - self.means[k]).reshape(-1, 1)\n",
        "                    cov_k += r[n, k] * np.dot(diff, diff.T)\n",
        "                self.covariances[k] = cov_k / (N_k[k] + self.reg_covar) + np.eye(n_features) * self.reg_covar\n",
        "                self.pi[k] = N_k[k] / n_samples\n",
        "\n",
        "    def predict(self, X):\n",
        "        X = np.array(X)\n",
        "        n_samples = X.shape[0]\n",
        "        cluster_indices = []\n",
        "        for n in range(n_samples):\n",
        "            probs = [self.multivariate_normal(X[n], self.means[k], self.covariances[k]) for k in range(self.n_components)]\n",
        "            idx = int(np.argmax(probs))\n",
        "            cluster_indices.append(idx)\n",
        "        return cluster_indices\n"
      ],
      "metadata": {
        "id": "9lUAGkMxchx9"
      },
      "execution_count": null,
      "outputs": []
    },
    {
      "cell_type": "code",
      "source": [
        "X_train = torch.stack([v.to(torch.float16) for v in train_mean_pooled_vector]).cpu().numpy()\n",
        "X_test = torch.stack([v.to(torch.float16) for v in test_mean_pooled_vector]).cpu().numpy()"
      ],
      "metadata": {
        "id": "c6s2uIz9hRuH"
      },
      "execution_count": null,
      "outputs": []
    },
    {
      "cell_type": "code",
      "source": [
        "# Saving and loading\n",
        "\n",
        "#np.save(\"X_train.npy\", X_train)\n",
        "#np.save(\"X_test.npy\", X_test)\n",
        "#X_train = np.load(\"X_train.npy\")\n",
        "#X_test = np.load(\"X_test.npy\")"
      ],
      "metadata": {
        "id": "MhXi0VyCjCjm"
      },
      "execution_count": null,
      "outputs": []
    },
    {
      "cell_type": "code",
      "source": [
        "# Due to large size from PhoBER (768), computing might take long time and large resource to process.\n",
        "# To fix it, i use PCA to reduce dim to 50\n",
        "\n",
        "pca = PCA(n_components=50)\n",
        "X_train_pca = pca.fit_transform(X_train)\n",
        "X_test_pca = pca.transform(X_test)"
      ],
      "metadata": {
        "id": "raCSEBf4htFw"
      },
      "execution_count": null,
      "outputs": []
    },
    {
      "cell_type": "code",
      "source": [
        "GMM = GMM(n_components=3, max_iter=50, verbose=True)\n",
        "GMM.fit(X_train_pca)\n",
        "y_pred = GMM.predict(X_test_pca)"
      ],
      "metadata": {
        "colab": {
          "base_uri": "https://localhost:8080/"
        },
        "id": "P4IkKFM6etZS",
        "outputId": "b595877e-298f-49ba-a636-490d4a464f90"
      },
      "execution_count": null,
      "outputs": [
        {
          "output_type": "stream",
          "name": "stderr",
          "text": [
            "GMM EM: 100%|██████████| 50/50 [04:44<00:00,  5.69s/it]\n"
          ]
        }
      ]
    },
    {
      "cell_type": "code",
      "source": [
        "# Label mapping from test set\n",
        "y_true = []\n",
        "\n",
        "for each in test:\n",
        "  if each['sentiment'] == 'positive':\n",
        "    y_true.append(0)\n",
        "  elif each['sentiment'] == 'negative':\n",
        "    y_true.append(1)\n",
        "  elif each['sentiment'] == 'neutral':\n",
        "    y_true.append(2)\n",
        "  else:\n",
        "    raise Exception(\"Unknown sentiment label\")"
      ],
      "metadata": {
        "id": "za9U2zR2Y2tg"
      },
      "execution_count": null,
      "outputs": []
    },
    {
      "cell_type": "code",
      "source": [
        "# Map predict to best label\n",
        "\n",
        "def best_map(y_true, y_pred):\n",
        "    cm = confusion_matrix(y_true, y_pred)\n",
        "    indexes = linear_sum_assignment(-cm)\n",
        "    mapping = dict(zip(indexes[1], indexes[0]))\n",
        "    y_pred_mapped = np.array([mapping[yi] for yi in y_pred])\n",
        "    return y_pred_mapped\n",
        "\n",
        "y_pred_mapped = best_map(y_true, y_pred)"
      ],
      "metadata": {
        "id": "eyNRFuXYVKf9"
      },
      "execution_count": null,
      "outputs": []
    },
    {
      "cell_type": "code",
      "source": [
        "precision = precision_score(y_true, y_pred_mapped, average='macro')\n",
        "recall    = recall_score(y_true, y_pred_mapped, average='macro')\n",
        "f1        = f1_score(y_true, y_pred_mapped, average='macro')\n",
        "\n",
        "print(f\"Precision: {precision:.4f}\")\n",
        "print(f\"Recall:    {recall:.4f}\")\n",
        "print(f\"F1-score:  {f1:.4f}\")\n"
      ],
      "metadata": {
        "colab": {
          "base_uri": "https://localhost:8080/"
        },
        "id": "jh_l12KNhC5X",
        "outputId": "228d7c0a-3b11-4f3c-a563-e4830a485f71"
      },
      "execution_count": null,
      "outputs": [
        {
          "output_type": "stream",
          "name": "stdout",
          "text": [
            "Precision: 0.5734\n",
            "Recall:    0.5533\n",
            "F1-score:  0.4911\n"
          ]
        }
      ]
    }
  ]
}